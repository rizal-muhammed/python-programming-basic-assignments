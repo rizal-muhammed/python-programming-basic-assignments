{
 "cells": [
  {
   "cell_type": "markdown",
   "id": "e1fd964c",
   "metadata": {},
   "source": [
    "1. Write a Python program to print &quot;Hello Python&quot;?"
   ]
  },
  {
   "cell_type": "code",
   "execution_count": 1,
   "id": "055310a2",
   "metadata": {},
   "outputs": [
    {
     "name": "stdout",
     "output_type": "stream",
     "text": [
      "Hello Python\n"
     ]
    }
   ],
   "source": [
    "print(\"Hello Python\")"
   ]
  },
  {
   "cell_type": "markdown",
   "id": "58d6b24c",
   "metadata": {},
   "source": [
    "2. Write a Python program to do arithmetical operations addition and division.?"
   ]
  },
  {
   "cell_type": "code",
   "execution_count": 13,
   "id": "79167aa6",
   "metadata": {},
   "outputs": [],
   "source": [
    "def my_func(num1, num2, choice):\n",
    "    if (choice == '+'):\n",
    "        return num1 + num2\n",
    "    elif (choice == '/'):\n",
    "        try:\n",
    "            return num1 / num2\n",
    "        except Exception as e:\n",
    "            return \"Exception occured \" + str(e)\n",
    "    else:\n",
    "        return \"Enter a correct choice\"\n",
    "    \n",
    "    \n"
   ]
  },
  {
   "cell_type": "code",
   "execution_count": 15,
   "id": "848fd509",
   "metadata": {},
   "outputs": [
    {
     "name": "stdout",
     "output_type": "stream",
     "text": [
      "Enter first number12\n",
      "Enter second number0\n",
      "Enter your choice for operator '+' or '/'/\n",
      "Exception occuredfloat division by zero\n"
     ]
    }
   ],
   "source": [
    "try:\n",
    "    num1 = float(input(\"Enter first number\"))\n",
    "    num2 = float(input(\"Enter second number\")) \n",
    "    choice = str(input(\"Enter your choice for operator '+' or '/'\"))\n",
    "    \n",
    "    result = my_func(num1, num2, choice)\n",
    "    print(result)\n",
    "except Exception as e:\n",
    "    print(e)"
   ]
  },
  {
   "cell_type": "markdown",
   "id": "9d0c94b3",
   "metadata": {},
   "source": [
    "3. Write a Python program to find the area of a triangle?"
   ]
  },
  {
   "cell_type": "code",
   "execution_count": 16,
   "id": "536e1fd4",
   "metadata": {},
   "outputs": [],
   "source": [
    "import math"
   ]
  },
  {
   "cell_type": "code",
   "execution_count": null,
   "id": "38c77e2c",
   "metadata": {},
   "outputs": [],
   "source": [
    "math.sqrt"
   ]
  },
  {
   "cell_type": "code",
   "execution_count": 21,
   "id": "73dd2361",
   "metadata": {},
   "outputs": [
    {
     "name": "stdout",
     "output_type": "stream",
     "text": [
      "enter side one12\n",
      "enter side two14\n",
      "enter side three15\n",
      "The area of the triangle is 78.92678569408487\n"
     ]
    }
   ],
   "source": [
    "try:\n",
    "    side_one = float(input('enter side one'))\n",
    "    side_two = float(input('enter side two'))\n",
    "    side_three = float(input('enter side three'))\n",
    "\n",
    "    # calculate semi perimeter\n",
    "    s = (side_one+side_two+side_three)/2\n",
    "    \n",
    "    try:\n",
    "        area = math.sqrt(s*(s-side_one)*(s-side_two)*(s-side_three))\n",
    "        print(f\"The area of the triangle is {area}\")\n",
    "        \n",
    "    except Exception as e:\n",
    "        print(e)\n",
    "except Exception as e:\n",
    "    print(e)"
   ]
  },
  {
   "cell_type": "markdown",
   "id": "d24fc6e3",
   "metadata": {},
   "source": [
    "4. Write a Python program to swap two variables?"
   ]
  },
  {
   "cell_type": "code",
   "execution_count": 25,
   "id": "90485cae",
   "metadata": {},
   "outputs": [],
   "source": [
    "def swap_var():\n",
    "    '''\n",
    "    This function swap the two variables\n",
    "    '''\n",
    "    global var1\n",
    "    global var2\n",
    "    var2, var1 = var1, var2\n",
    "    return var1, var2"
   ]
  },
  {
   "cell_type": "code",
   "execution_count": 27,
   "id": "a4918184",
   "metadata": {},
   "outputs": [
    {
     "name": "stdout",
     "output_type": "stream",
     "text": [
      "Priya Rahul\n"
     ]
    }
   ],
   "source": [
    "var1 = 'Rahul'\n",
    "var2 = 'Priya'\n",
    "swap_var()\n",
    "print(var1, var2)"
   ]
  },
  {
   "cell_type": "markdown",
   "id": "7bb965f5",
   "metadata": {},
   "source": [
    "5. Write a Python program to generate a random number?"
   ]
  },
  {
   "cell_type": "code",
   "execution_count": 30,
   "id": "010f34b7",
   "metadata": {},
   "outputs": [
    {
     "data": {
      "text/plain": [
       "80"
      ]
     },
     "execution_count": 30,
     "metadata": {},
     "output_type": "execute_result"
    }
   ],
   "source": [
    "import random\n",
    "random.randint(1, 100)  # this will return a random integer within the range (1, 100)"
   ]
  },
  {
   "cell_type": "code",
   "execution_count": null,
   "id": "fe5fc8f0",
   "metadata": {},
   "outputs": [],
   "source": []
  }
 ],
 "metadata": {
  "kernelspec": {
   "display_name": "Python 3 (ipykernel)",
   "language": "python",
   "name": "python3"
  },
  "language_info": {
   "codemirror_mode": {
    "name": "ipython",
    "version": 3
   },
   "file_extension": ".py",
   "mimetype": "text/x-python",
   "name": "python",
   "nbconvert_exporter": "python",
   "pygments_lexer": "ipython3",
   "version": "3.9.12"
  }
 },
 "nbformat": 4,
 "nbformat_minor": 5
}
